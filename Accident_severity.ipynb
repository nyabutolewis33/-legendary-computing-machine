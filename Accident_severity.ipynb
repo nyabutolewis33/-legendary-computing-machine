{
  "nbformat": 4,
  "nbformat_minor": 0,
  "metadata": {
    "colab": {
      "provenance": [],
      "mount_file_id": "1XYCywFK8xf6yXp00hGvipvNICAPzF_Zz",
      "authorship_tag": "ABX9TyPEranjR4Ce5Om+EtHoBPnW",
      "include_colab_link": true
    },
    "kernelspec": {
      "name": "python3",
      "display_name": "Python 3"
    },
    "language_info": {
      "name": "python"
    }
  },
  "cells": [
    {
      "cell_type": "markdown",
      "metadata": {
        "id": "view-in-github",
        "colab_type": "text"
      },
      "source": [
        "<a href=\"https://colab.research.google.com/github/nyabutolewis33/-legendary-computing-machine/blob/main/Accident_severity.ipynb\" target=\"_parent\"><img src=\"https://colab.research.google.com/assets/colab-badge.svg\" alt=\"Open In Colab\"/></a>"
      ]
    },
    {
      "cell_type": "code",
      "execution_count": 3,
      "metadata": {
        "colab": {
          "base_uri": "https://localhost:8080/"
        },
        "id": "NhA5VvTRaIoU",
        "outputId": "c30dca47-d005-4f12-8719-bc0f44329cf9"
      },
      "outputs": [
        {
          "output_type": "stream",
          "name": "stdout",
          "text": [
            "Mean Squared Error: 0.002737499168051577\n",
            "R-squared: 0.995738737950153\n"
          ]
        }
      ],
      "source": [
        "# Import necessary libraries\n",
        "import numpy as np\n",
        "import pandas as pd\n",
        "from sklearn.model_selection import train_test_split\n",
        "from sklearn.linear_model import LinearRegression\n",
        "from sklearn.metrics import mean_squared_error, r2_score\n",
        "import joblib  # Import the joblib library\n",
        "\n",
        "# Load the CSV file into a DataFrame\n",
        "nyabuto = pd.read_csv('/content/drive/MyDrive/Data sets/Accident severity.csv')  # Replace 'your_data.csv' with the actual file name\n",
        "\n",
        "# Assuming your CSV file has columns 'X' and 'y' for the independent and dependent variables, you can do:\n",
        "X = nyabuto[['Alcohol (BAC)']]\n",
        "y = nyabuto['Accident severity']\n",
        "\n",
        "# Split the data into training and testing sets\n",
        "X_train, X_test, y_train, y_test = train_test_split(X, y, test_size=0.2, random_state=42)\n",
        "\n",
        "# Create and train the linear regression model\n",
        "model = LinearRegression()\n",
        "model.fit(X_train, y_train)\n",
        "\n",
        "# Save the trained model to a file using joblib\n",
        "model_filename = 'linear_regression_model.pkl'\n",
        "joblib.dump(model, model_filename)\n",
        "\n",
        "# Make predictions on the test data\n",
        "y_pred = model.predict(X_test)\n",
        "\n",
        "# Evaluate the model\n",
        "mse = mean_squared_error(y_test, y_pred)\n",
        "r2 = r2_score(y_test, y_pred)\n",
        "\n",
        "print(\"Mean Squared Error:\", mse)\n",
        "print(\"R-squared:\", r2)\n"
      ]
    },
    {
      "cell_type": "code",
      "source": [
        "import joblib\n",
        "\n",
        "# Load the saved linear regression model\n",
        "model_filename = 'linear_regression_model.pkl'\n",
        "loaded_model = joblib.load(model_filename)\n",
        "\n",
        "# Prepare your new data as a pandas DataFrame\n",
        "new_data = pd.DataFrame({'Alcohol (BAC)': [23, 45, 6]})  # Replace with your new data points\n",
        "\n",
        "# Make predictions with the loaded model\n",
        "predictions = loaded_model.predict(new_data)\n",
        "\n",
        "# 'predictions' will contain the predicted values based on the new data\n",
        "print(predictions)\n"
      ],
      "metadata": {
        "colab": {
          "base_uri": "https://localhost:8080/"
        },
        "id": "SHYFiqN9bAQK",
        "outputId": "07ec18ad-468e-4e7f-f2dc-03110672fd40"
      },
      "execution_count": 4,
      "outputs": [
        {
          "output_type": "stream",
          "name": "stdout",
          "text": [
            "[458.07101494 895.25695552 120.24551541]\n"
          ]
        }
      ]
    }
  ]
}