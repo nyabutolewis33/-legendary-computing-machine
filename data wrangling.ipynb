{
  "nbformat": 4,
  "nbformat_minor": 0,
  "metadata": {
    "colab": {
      "provenance": [],
      "authorship_tag": "ABX9TyNENHgiBD5ZgAiyhpXUIaYW",
      "include_colab_link": true
    },
    "kernelspec": {
      "name": "python3",
      "display_name": "Python 3"
    },
    "language_info": {
      "name": "python"
    }
  },
  "cells": [
    {
      "cell_type": "markdown",
      "metadata": {
        "id": "view-in-github",
        "colab_type": "text"
      },
      "source": [
        "<a href=\"https://colab.research.google.com/github/nyabutolewis33/-legendary-computing-machine/blob/main/data%20wrangling.ipynb\" target=\"_parent\"><img src=\"https://colab.research.google.com/assets/colab-badge.svg\" alt=\"Open In Colab\"/></a>"
      ]
    },
    {
      "cell_type": "code",
      "execution_count": 1,
      "metadata": {
        "colab": {
          "base_uri": "https://localhost:8080/"
        },
        "id": "xxgrrYEWFisR",
        "outputId": "da4972c5-1a23-44a5-e866-c016374c6875"
      },
      "outputs": [
        {
          "output_type": "stream",
          "name": "stdout",
          "text": [
            "   IDNO        NAME   Campus\n",
            "0   101       Peter     Main\n",
            "1   102       Joyce    Ruiru\n",
            "2   103      George  Nairobi\n",
            "3   104      Phylis     Main\n",
            "4   105       Moses    Ruiru\n",
            "5   106  Priscillah  Nairobi\n",
            "6   107       Eliud     Main\n",
            "7   108   Veronicah    Ruiru\n",
            "8   109        John  Nairobi\n",
            "9   110      Juliet     Main\n"
          ]
        }
      ],
      "source": [
        "import pandas as pd\n",
        "STUDENTDETAILS = {\n",
        "'IDNO': [101, 102, 103, 104, 105, 106, 107, 108, 109, 110],\n",
        "'NAME': ['Peter', 'Joyce', 'George', 'Phylis', 'Moses','Priscillah', 'Eliud','Veronicah','John', 'Juliet'],\n",
        "'Campus': ['Main','Ruiru', 'Nairobi', 'Main', 'Ruiru', 'Nairobi','Main', 'Ruiru', 'Nairobi','Main']\n",
        "}\n",
        "wainaina1 = pd.DataFrame(STUDENTDETAILS)\n",
        "print(wainaina1)"
      ]
    },
    {
      "cell_type": "code",
      "source": [
        "import pandas as pd\n",
        "STUDENTDETAILS = {\n",
        "'IDNO': [101, 102, 103, 104, 105, 106, 107, 108, 109, 110],\n",
        "'NAME': ['Peter', 'Joyce', 'George', 'Phylis', 'Moses','Priscillah', 'Eliud','Veronicah','John', 'Juliet'],\n",
        "'Campus': ['Main', 'Ruiru', 'Nairobi', 'Main', 'Ruiru', 'Nairobi','Main', 'Ruiru', 'Nairobi','Main']\n",
        "}\n",
        "wainaina1 = pd.DataFrame(STUDENTDETAILS)\n",
        "\n",
        "FEESDETAILS = {\n",
        "'IDNO': [101, 102, 103, 104, 105, 106, 107, 108, 109, 110],\n",
        "'PENDING': ['6000', '375', 'NIL', '7640', '3800','NIL', '1250','900','5200', 'NIL']\n",
        "}\n",
        "wainaina2 = pd.DataFrame(FEESDETAILS)\n",
        "\n",
        "#merging Dataframe\n",
        "print(pd.merge(wainaina1,wainaina2,on='IDNO'))"
      ],
      "metadata": {
        "colab": {
          "base_uri": "https://localhost:8080/"
        },
        "id": "HJRKbYl7Fxt5",
        "outputId": "69f242da-aa52-46c5-fc6b-0e10398e1ac3"
      },
      "execution_count": 2,
      "outputs": [
        {
          "output_type": "stream",
          "name": "stdout",
          "text": [
            "   IDNO        NAME   Campus PENDING\n",
            "0   101       Peter     Main    6000\n",
            "1   102       Joyce    Ruiru     375\n",
            "2   103      George  Nairobi     NIL\n",
            "3   104      Phylis     Main    7640\n",
            "4   105       Moses    Ruiru    3800\n",
            "5   106  Priscillah  Nairobi     NIL\n",
            "6   107       Eliud     Main    1250\n",
            "7   108   Veronicah    Ruiru     900\n",
            "8   109        John  Nairobi    5200\n",
            "9   110      Juliet     Main     NIL\n"
          ]
        }
      ]
    }
  ]
}