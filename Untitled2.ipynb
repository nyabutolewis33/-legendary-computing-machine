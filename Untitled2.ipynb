{
  "nbformat": 4,
  "nbformat_minor": 0,
  "metadata": {
    "colab": {
      "provenance": [],
      "authorship_tag": "ABX9TyMWqlqc/fgO9+Ra0AwrUbv3",
      "include_colab_link": true
    },
    "kernelspec": {
      "name": "python3",
      "display_name": "Python 3"
    },
    "language_info": {
      "name": "python"
    }
  },
  "cells": [
    {
      "cell_type": "markdown",
      "metadata": {
        "id": "view-in-github",
        "colab_type": "text"
      },
      "source": [
        "<a href=\"https://colab.research.google.com/github/nyabutolewis33/-legendary-computing-machine/blob/main/Untitled2.ipynb\" target=\"_parent\"><img src=\"https://colab.research.google.com/assets/colab-badge.svg\" alt=\"Open In Colab\"/></a>"
      ]
    },
    {
      "cell_type": "code",
      "execution_count": 1,
      "metadata": {
        "colab": {
          "base_uri": "https://localhost:8080/"
        },
        "id": "xxgrrYEWFisR",
        "outputId": "da4972c5-1a23-44a5-e866-c016374c6875"
      },
      "outputs": [
        {
          "output_type": "stream",
          "name": "stdout",
          "text": [
            "   IDNO        NAME   Campus\n",
            "0   101       Peter     Main\n",
            "1   102       Joyce    Ruiru\n",
            "2   103      George  Nairobi\n",
            "3   104      Phylis     Main\n",
            "4   105       Moses    Ruiru\n",
            "5   106  Priscillah  Nairobi\n",
            "6   107       Eliud     Main\n",
            "7   108   Veronicah    Ruiru\n",
            "8   109        John  Nairobi\n",
            "9   110      Juliet     Main\n"
          ]
        }
      ],
      "source": [
        "import pandas as pd\n",
        "STUDENTDETAILS = {\n",
        "'IDNO': [101, 102, 103, 104, 105, 106, 107, 108, 109, 110],\n",
        "'NAME': ['Peter', 'Joyce', 'George', 'Phylis', 'Moses','Priscillah', 'Eliud','Veronicah','John', 'Juliet'],\n",
        "'Campus': ['Main','Ruiru', 'Nairobi', 'Main', 'Ruiru', 'Nairobi','Main', 'Ruiru', 'Nairobi','Main']\n",
        "}\n",
        "wainaina1 = pd.DataFrame(STUDENTDETAILS)\n",
        "print(wainaina1)"
      ]
    },
    {
      "cell_type": "code",
      "source": [
        "import pandas as pd\n",
        "STUDENTDETAILS = {\n",
        "'IDNO': [101, 102, 103, 104, 105, 106, 107, 108, 109, 110],\n",
        "'NAME': ['Peter', 'Joyce', 'George', 'Phylis', 'Moses','Priscillah', 'Eliud','Veronicah','John', 'Juliet'],\n",
        "'Campus': ['Main', 'Ruiru', 'Nairobi', 'Main', 'Ruiru', 'Nairobi','Main', 'Ruiru', 'Nairobi','Main']\n",
        "}\n",
        "wainaina1 = pd.DataFrame(STUDENTDETAILS)\n",
        "\n",
        "FEESDETAILS = {\n",
        "'IDNO': [101, 102, 103, 104, 105, 106, 107, 108, 109, 110],\n",
        "'PENDING': ['6000', '375', 'NIL', '7640', '3800','NIL', '1250','900','5200', 'NIL']\n",
        "}\n",
        "wainaina2 = pd.DataFrame(FEESDETAILS)\n",
        "\n",
        "#merging Dataframe\n",
        "print(pd.merge(wainaina1,wainaina2,on='IDNO'))"
      ],
      "metadata": {
        "colab": {
          "base_uri": "https://localhost:8080/"
        },
        "id": "HJRKbYl7Fxt5",
        "outputId": "69f242da-aa52-46c5-fc6b-0e10398e1ac3"
      },
      "execution_count": 2,
      "outputs": [
        {
          "output_type": "stream",
          "name": "stdout",
          "text": [
            "   IDNO        NAME   Campus PENDING\n",
            "0   101       Peter     Main    6000\n",
            "1   102       Joyce    Ruiru     375\n",
            "2   103      George  Nairobi     NIL\n",
            "3   104      Phylis     Main    7640\n",
            "4   105       Moses    Ruiru    3800\n",
            "5   106  Priscillah  Nairobi     NIL\n",
            "6   107       Eliud     Main    1250\n",
            "7   108   Veronicah    Ruiru     900\n",
            "8   109        John  Nairobi    5200\n",
            "9   110      Juliet     Main     NIL\n"
          ]
        }
      ]
    },
    {
      "cell_type": "code",
      "source": [
        "import pandas as pd\n",
        "# Create a DataFrame for student details\n",
        "STUDENTDETAILS = {\n",
        "'IDNO': [101, 102, 103, 104, 105, 106, 107, 108, 109, 110],\n",
        "'NAME': ['Peter', 'Joyce', 'George', 'Phylis', 'Moses', 'Priscillah', 'Eliud', 'Veronicah', 'John', 'Juliet'],\n",
        "'Campus': ['Main', 'Ruiru', 'Nairobi', 'Main', 'Ruiru', 'Nairobi', 'Main', 'Ruiru', 'Nairobi', 'Main']\n",
        "}\n",
        "wainaina1 = pd.DataFrame(STUDENTDETAILS)\n",
        "# Create a DataFrame for student fees\n",
        "FEESDETAILS = {\n",
        "'IDNO': [101, 102, 103, 104, 105, 106, 107, 108, 109, 110],\n",
        "'PENDING': [6000, 375, 0, 7640, 3800, 0, 1250, 900, 5200, 0]\n",
        "}\n",
        "wainaina2 = pd.DataFrame(FEESDETAILS)\n",
        "# Merge the two DataFrames on 'IDNO' to combine them\n",
        "merged_df = pd.merge(wainaina1, wainaina2, on='IDNO')\n",
        "# Group the merged DataFrame by 'Campus' and calculate the total pending fees for each campus\n",
        "campus_fee_totals = merged_df.groupby('Campus')['PENDING'].sum().reset_index()\n",
        "# Display the total pending fees for each campus\n",
        "print(campus_fee_totals)"
      ],
      "metadata": {
        "colab": {
          "base_uri": "https://localhost:8080/"
        },
        "id": "6WK0m_p3GVeJ",
        "outputId": "3066fbb6-0741-46c2-8687-dafe28550a5f"
      },
      "execution_count": 3,
      "outputs": [
        {
          "output_type": "stream",
          "name": "stdout",
          "text": [
            "    Campus  PENDING\n",
            "0     Main    14890\n",
            "1  Nairobi     5200\n",
            "2    Ruiru     5075\n"
          ]
        }
      ]
    },
    {
      "cell_type": "code",
      "source": [
        "import pandas as pd\n",
        "cardata = {\n",
        "'Brand': ['Maruti', 'Toyota', 'Mahindra', 'Ford', 'Maruti', 'Toyota', 'Toyota', 'Ford', 'Mahindra', 'Maruti'],\n",
        "'Year': [2009, 2010, 2011, 2010, 2010, 2009, 2010, 2012, 2010, 2009],\n",
        "'Model': ['Swift', 'Corolla', 'Scorpio', 'Fiesta', 'Alto', 'Camry', 'Innova', 'Figo', 'Bolero', 'WagonR'],\n",
        "'Sales': [120, 150, 95, 50, 105, 130, 90, 75, 85, 115]\n",
        "}\n",
        "# Create a DataFrame from the sample data\n",
        "wainaina= pd.DataFrame(cardata)\n",
        "print(wainaina)\n",
        "print(\"\\n GROUPED DATA \\n\")\n",
        "grouped=wainaina.groupby('Year')\n",
        "# Display the filtered DataFrame for car sales in a given year\n",
        "print(grouped.get_group(2011))"
      ],
      "metadata": {
        "colab": {
          "base_uri": "https://localhost:8080/"
        },
        "id": "Grb9hCopHMNy",
        "outputId": "55399d8d-34c6-4919-d083-f49c85a80941"
      },
      "execution_count": 4,
      "outputs": [
        {
          "output_type": "stream",
          "name": "stdout",
          "text": [
            "      Brand  Year    Model  Sales\n",
            "0    Maruti  2009    Swift    120\n",
            "1    Toyota  2010  Corolla    150\n",
            "2  Mahindra  2011  Scorpio     95\n",
            "3      Ford  2010   Fiesta     50\n",
            "4    Maruti  2010     Alto    105\n",
            "5    Toyota  2009    Camry    130\n",
            "6    Toyota  2010   Innova     90\n",
            "7      Ford  2012     Figo     75\n",
            "8  Mahindra  2010   Bolero     85\n",
            "9    Maruti  2009   WagonR    115\n",
            "\n",
            " GROUPED DATA \n",
            "\n",
            "      Brand  Year    Model  Sales\n",
            "2  Mahindra  2011  Scorpio     95\n"
          ]
        }
      ]
    }
  ]
}